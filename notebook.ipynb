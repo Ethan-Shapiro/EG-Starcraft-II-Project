{
 "cells": [
  {
   "attachments": {},
   "cell_type": "markdown",
   "metadata": {},
   "source": [
    "# Predicting the rank of Starcraft II players\n",
    "\n",
    "**Ethan Shapiro**"
   ]
  },
  {
   "attachments": {},
   "cell_type": "markdown",
   "metadata": {},
   "source": [
    "## Summary of Findings\n",
    "\n",
    "\n",
    "### Introduction\n",
    "**My Questions:** Can we predict a Starcraft player's rank based on their past ranked performance? If so, what information is useful and or will be useful to collect for future prediction?\n",
    "\n",
    "**Type of Prediction Problem:** We're doing a multiclass classification on the player's rank.\n",
    "\n",
    "**Response Variable:** League Index (Ranks 1-8)\n",
    "\n",
    "Finding a solution to these problems I see could help us a few ways:\n",
    "\n",
    "*From a gamer maker perspective*\n",
    "1. Placing veteran players in the new ranked season\n",
    "2. Placing new players into their first ranked league\n",
    "3. Working in conjunction with another model to adjust ranks (ranked reset, rank inflation adjustments, etc.)\n",
    "\n",
    "*From an esports organization perspective*\n",
    "1. Evaluating if the player is \"meant\" to be in the rank they are at\n",
    "2. Understanding what is important to be a higher tier player to help our player's improve \n",
    "\n",
    "**Metric:** I chose accuracy for evaluating the model because we want to weigh false positives and false negatives equally in our outcomes.\n",
    "\n",
    "---\n",
    "### Cleaning and Feature Selection\n",
    "---\n",
    "\n",
    "\n",
    "\n",
    "We performed cleaning on 3 different complainant columns:\n",
    " - ethnicity\n",
    "    - There were missing ethnicities labeled as \"Unknown\", so we changed those to NaN\n",
    "    - We were not working with ethnicities, so there was no reason to impute these values\n",
    " - gender\n",
    "    - There were missing genders labeled as \"Unknown\", so we changed those to be NaN\n",
    "    - We were not working with genders, so there was no reason to impute these values\n",
    " - age\n",
    "    - There were negative or 0 ages which aren't possible, so we changed those to NaN\n",
    "    - We did not impute these values because we did not use them to answer our question in the beginning\n",
    "    - There were also ages which were 5 or less, but we can't say for certain someone that age didn't make a complaint, so we didn't change those values.\n",
    " \n",
    " Since ethnicity, gender, and age are all reported by the complainant, they can choose not to give this information, which is why certain\n",
    " complaints do not include these attributes.\n",
    "\n",
    "Next, we engineered two different features:\n",
    "   - Duration the complaint was open\n",
    "      - We used the complaint received date and the complaint closed date to get the number of days the complaint was open\n",
    "   - Complaint Outcome\n",
    "      - We used the original complaint outcome which contained a lot of sub-categories. We removed those categories and simplified it to either an action taken or not.\n",
    "\n",
    "### Baseline Model\n",
    "For our baseline model, we chose to use a **Decision Tree Classifier**.\n",
    "\n",
    "We included these features:\n",
    " - **Officer Age at the incident (mos_age_incident)**\n",
    "    - Type: Quantitative\n",
    "    - Encoding: None\n",
    " - **Officer Ethnicity (mos_ethnicity)**\n",
    "    - Type: Categorical\n",
    "    - Encoding: One Hot Encoding\n",
    " - **Officer Gender (mos_gender)**\n",
    "    - Type: Categorical\n",
    "    - Encoding: One Hot Encoding\n",
    " - **Complainant Ethnicity (complainant_ethnicity)**\n",
    "    - Type: Categorical\n",
    "    - Encoding: One Hot Encoding\n",
    " - **Complainant Gender (complainant_gender)**\n",
    "    - Type: Categorical\n",
    "    - Encoding: One Hot Encoding\n",
    " - **Complainant Age (complainant_age_incident)**\n",
    "    - Type: Quantitative\n",
    "    - Encoding: None\n",
    " - **Type of Complaint (fado_type)**\n",
    "    - Type: Categorical\n",
    "    - Encoding: One Hot Encoding\n",
    "    \n",
    "We were trying to predict: **Outcome of Complaint (complaint_outcome)**\n",
    "\n",
    "Our Basic Model's performance was:\n",
    " - Test accuracy: ~0.4944\n",
    " - Test precision: ~0.4628\n",
    " \n",
    "We don't believe our model is good because it doesn't do significantly better than simply randomly guessing an outcome (which would be ~33%).<br>\n",
    "There is no point to telling a complainant a possible outcome if we are not even 50% sure of our prediction.\n",
    "\n",
    "### Final Model\n",
    "For our final model, we stuck with a **Decision Tree Classifier**.\n",
    "\n",
    "We feature engineered the following:\n",
    " - **Officer is a Minority**\n",
    "    - *Type:* Categorical/Binary\n",
    "    - *Encoding:* Returning any ethnicity non-white as a 1 and white as a 0.\n",
    "    - *Why it's a good fit:* We believe there could be bias in the CCRB decision process based on ethnicity. Therefore, knowing if an officer is a minority might give information about the outcome of the complaint.\n",
    " - **Complainant is a Minority**\n",
    "    - *Type:* Categorical/Binary\n",
    "    - *Encoding:* Returning any ethnicity non-white as a 1 and white as a 0.\n",
    "    - *Why it's a good fit:* We believe there could be bias in the CCRB decision process based on ethnicity. Therefore, knowing if a complainant is a minority might give information about the outcome of the complaint.\n",
    " - **Officer is a High Rank**\n",
    "    - *Type:* Categorical/Binary\n",
    "    - *Encoding:* Returning 1 for Deputy Inspector, Inspector, and Chief/other high ranks. Returning 0 otherwise.\n",
    "    - *Why it's a good fit:* Higher ranking officers might have more favorable outcomes than lower ranking officers. Therefore, knowing if the rank is a high rank can help us predict the outcome.\n",
    " - **General Allegation Type**\n",
    "    - *Type:* Categorical\n",
    "    - *Encoding:* We take the original 76 unique allegation types and categorize them into 11 general groups. Then, we were able to One Hot Encode them.\n",
    "    - *Why it's a good fit:* We believe the severity of the complaint will give information about the outcome of the complaint. I.E. More severe complaint allegations might be more likely to be Substantiated and vice-versa.\n",
    " - **General Outcome Type**\n",
    "    - *Type:* Categorical/Ordinal\n",
    "    - *Encoding:* We generalized the original outcome types into three major types: Arrest, Summons, or No Arrest. Then, we ordinally encoded it, making Arrest the most severe outcome, followed by Summons, and then No Arrest.\n",
    "    - *Why it's a good fit:* We believe the outcome of the Officer and Complainant interaction can influence the decision of the CCRB. I.E. If someone is arrested during the interaction, their complaint might be out of spite and not necessarily true.\n",
    "\n",
    "After creating these features, we ran a **GridSearchCV** with a **Decision Tree**, **5 folds**, and fitted on **75%** of the original data. We ended up with the following best hyperparameters:\n",
    " - criterion: entropy\n",
    " - max_depth: 12\n",
    " - min_samples_split: 15\n",
    "\n",
    "Our Final Model's performance was:\n",
    " - Test accuracy: ~0.5349\n",
    " - Test precision: ~0.5408\n",
    "\n",
    "This means our model improved its accuracy by ~4.05% and its precision by ~7.80%.\n",
    "\n",
    "### Fairness Analysis\n",
    "\n",
    "We ran a permutation Tests to test our model's **precision** of Minority vs. Non-Minority Complainants with the following hypotheses:\n",
    "\n",
    "<b>Null Hypothesis:</b> Our model is fair. Its precision for minorities and non-minorities are roughly the same, and differences are due to random chance.\n",
    "\n",
    "<b>Alternative Hypothesis:</b> Our model is unfair. Its precision for minorities is better than for minorities than non-minorities.\n",
    "\n",
    "<b>Evaluation Metric:</b> Precision\n",
    "\n",
    "<b>Our signifcance value:</b> 0.05\n",
    "\n",
    "With a p-value = 0.013 < 0.05, we reject the null hypothesis and say that our model is unfair.\n",
    "Our model has worse precision for complainants that are non-minorities than it does for minorities."
   ]
  },
  {
   "attachments": {},
   "cell_type": "markdown",
   "metadata": {},
   "source": [
    "---\n",
    "## Imports"
   ]
  },
  {
   "cell_type": "code",
   "execution_count": 29,
   "metadata": {},
   "outputs": [],
   "source": [
    "import numpy as np\n",
    "import pandas as pd\n",
    "import seaborn as sns\n",
    "import plotly.express as px\n",
    "import matplotlib.pyplot as plt\n",
    "from sklearn.utils._testing import ignore_warnings\n",
    "from sklearn.exceptions import ConvergenceWarning\n",
    "import warnings\n",
    "warnings.filterwarnings('ignore')"
   ]
  },
  {
   "attachments": {},
   "cell_type": "markdown",
   "metadata": {},
   "source": [
    "----\n",
    "## Feature Cleaning and Missigness\n",
    "----\n",
    "Here, I'll explain why I removed particular features and how I dealt with missingness in the data.\n",
    "\n",
    "We were trying to predict: **LeagueIndex**\n",
    "\n",
    "With that multi-class classification objective in mind, I **removed** these features:\n",
    " - **GameID**\n",
    "   - Knowing a GameID is great than 10,000 leaks information into the model to identify Professional Players (League Index 8).\n",
    "   - We want to identify a player's rank based off of their skills, not a unique ID.\n",
    " - **Age**\n",
    "   - The age of the player didn't give any information on the player's rank, so we can simply remove it.\n",
    "   - This also solves a problem with having missing values for only rank 8, which makes it hard to impute good values.\n",
    " - **TotalHours**\n",
    "   - Knowing the total hours a player has didn't give us good insight into their rank.\n",
    "   - All of rank 8 players are missing this entry which would make it hard to impute good values.\n",
    "   - The 'HoursPerWeek' feature did a better job of capturing the amount of hours played with regards to player rank.\n",
    "  - **HoursPerWeek**\n",
    "   - Although this metric did show some correlation to our target, I removed it because of a two reasons:\n",
    "      1. All of the values for League Index 8 are missing, so it would be hard to impute unbiased values and also impossible to use basic metrics (mean, etc.)\n",
    "      2. Imputing a filler value will introduce bias\n",
    "   - **How I could attempt to impute them with more time**\n",
    "      - League Index 8 missingness:\n",
    "        - Attempting to build a model between HoursPerWeek and other features to impute the values\n",
    "      - League Index 5 missingness:\n",
    "        - Within the League Index 5 entries, I would use the Age of the player to impute the mean\n",
    "----"
   ]
  },
  {
   "attachments": {},
   "cell_type": "markdown",
   "metadata": {},
   "source": [
    "An initial observation is that all of the columns are numeric and at vastly different scales. When using different models or techniques to explore the data I'll think about standardizing the data."
   ]
  },
  {
   "cell_type": "code",
   "execution_count": 30,
   "metadata": {},
   "outputs": [
    {
     "data": {
      "text/html": [
       "<div>\n",
       "<style scoped>\n",
       "    .dataframe tbody tr th:only-of-type {\n",
       "        vertical-align: middle;\n",
       "    }\n",
       "\n",
       "    .dataframe tbody tr th {\n",
       "        vertical-align: top;\n",
       "    }\n",
       "\n",
       "    .dataframe thead th {\n",
       "        text-align: right;\n",
       "    }\n",
       "</style>\n",
       "<table border=\"1\" class=\"dataframe\">\n",
       "  <thead>\n",
       "    <tr style=\"text-align: right;\">\n",
       "      <th></th>\n",
       "      <th>GameID</th>\n",
       "      <th>LeagueIndex</th>\n",
       "      <th>Age</th>\n",
       "      <th>HoursPerWeek</th>\n",
       "      <th>TotalHours</th>\n",
       "      <th>APM</th>\n",
       "      <th>SelectByHotkeys</th>\n",
       "      <th>AssignToHotkeys</th>\n",
       "      <th>UniqueHotkeys</th>\n",
       "      <th>MinimapAttacks</th>\n",
       "      <th>MinimapRightClicks</th>\n",
       "      <th>NumberOfPACs</th>\n",
       "      <th>GapBetweenPACs</th>\n",
       "      <th>ActionLatency</th>\n",
       "      <th>ActionsInPAC</th>\n",
       "      <th>TotalMapExplored</th>\n",
       "      <th>WorkersMade</th>\n",
       "      <th>UniqueUnitsMade</th>\n",
       "      <th>ComplexUnitsMade</th>\n",
       "      <th>ComplexAbilitiesUsed</th>\n",
       "    </tr>\n",
       "  </thead>\n",
       "  <tbody>\n",
       "    <tr>\n",
       "      <th>0</th>\n",
       "      <td>52</td>\n",
       "      <td>5</td>\n",
       "      <td>27</td>\n",
       "      <td>10</td>\n",
       "      <td>3000</td>\n",
       "      <td>143.718</td>\n",
       "      <td>0.003515</td>\n",
       "      <td>0.00022</td>\n",
       "      <td>7</td>\n",
       "      <td>0.00011</td>\n",
       "      <td>0.000392</td>\n",
       "      <td>0.004849</td>\n",
       "      <td>32.6677</td>\n",
       "      <td>40.8673</td>\n",
       "      <td>4.7508</td>\n",
       "      <td>28</td>\n",
       "      <td>0.001397</td>\n",
       "      <td>6</td>\n",
       "      <td>0.0</td>\n",
       "      <td>0.0</td>\n",
       "    </tr>\n",
       "  </tbody>\n",
       "</table>\n",
       "</div>"
      ],
      "text/plain": [
       "   GameID  LeagueIndex Age HoursPerWeek TotalHours      APM  SelectByHotkeys   \n",
       "0      52            5  27           10       3000  143.718         0.003515  \\\n",
       "\n",
       "   AssignToHotkeys  UniqueHotkeys  MinimapAttacks  MinimapRightClicks   \n",
       "0          0.00022              7         0.00011            0.000392  \\\n",
       "\n",
       "   NumberOfPACs  GapBetweenPACs  ActionLatency  ActionsInPAC   \n",
       "0      0.004849         32.6677        40.8673        4.7508  \\\n",
       "\n",
       "   TotalMapExplored  WorkersMade  UniqueUnitsMade  ComplexUnitsMade   \n",
       "0                28     0.001397                6               0.0  \\\n",
       "\n",
       "   ComplexAbilitiesUsed  \n",
       "0                   0.0  "
      ]
     },
     "execution_count": 30,
     "metadata": {},
     "output_type": "execute_result"
    }
   ],
   "source": [
    "# Read in the data\n",
    "df = pd.read_csv('starcraft_player_data.csv')\n",
    "df.head(1)"
   ]
  },
  {
   "attachments": {},
   "cell_type": "markdown",
   "metadata": {},
   "source": [
    "It appears that no NaN values are present in the data, but we'll take a closer look to see if missingness presents itself in other ways>"
   ]
  },
  {
   "cell_type": "code",
   "execution_count": 31,
   "metadata": {},
   "outputs": [
    {
     "data": {
      "text/plain": [
       "GameID                  0\n",
       "LeagueIndex             0\n",
       "Age                     0\n",
       "HoursPerWeek            0\n",
       "TotalHours              0\n",
       "APM                     0\n",
       "SelectByHotkeys         0\n",
       "AssignToHotkeys         0\n",
       "UniqueHotkeys           0\n",
       "MinimapAttacks          0\n",
       "MinimapRightClicks      0\n",
       "NumberOfPACs            0\n",
       "GapBetweenPACs          0\n",
       "ActionLatency           0\n",
       "ActionsInPAC            0\n",
       "TotalMapExplored        0\n",
       "WorkersMade             0\n",
       "UniqueUnitsMade         0\n",
       "ComplexUnitsMade        0\n",
       "ComplexAbilitiesUsed    0\n",
       "dtype: int64"
      ]
     },
     "execution_count": 31,
     "metadata": {},
     "output_type": "execute_result"
    }
   ],
   "source": [
    "# See if we have any missing values\n",
    "df.isna().sum()"
   ]
  },
  {
   "cell_type": "code",
   "execution_count": 32,
   "metadata": {},
   "outputs": [
    {
     "name": "stdout",
     "output_type": "stream",
     "text": [
      "<class 'pandas.core.frame.DataFrame'>\n",
      "RangeIndex: 3395 entries, 0 to 3394\n",
      "Data columns (total 20 columns):\n",
      " #   Column                Non-Null Count  Dtype  \n",
      "---  ------                --------------  -----  \n",
      " 0   GameID                3395 non-null   int64  \n",
      " 1   LeagueIndex           3395 non-null   int64  \n",
      " 2   Age                   3395 non-null   object \n",
      " 3   HoursPerWeek          3395 non-null   object \n",
      " 4   TotalHours            3395 non-null   object \n",
      " 5   APM                   3395 non-null   float64\n",
      " 6   SelectByHotkeys       3395 non-null   float64\n",
      " 7   AssignToHotkeys       3395 non-null   float64\n",
      " 8   UniqueHotkeys         3395 non-null   int64  \n",
      " 9   MinimapAttacks        3395 non-null   float64\n",
      " 10  MinimapRightClicks    3395 non-null   float64\n",
      " 11  NumberOfPACs          3395 non-null   float64\n",
      " 12  GapBetweenPACs        3395 non-null   float64\n",
      " 13  ActionLatency         3395 non-null   float64\n",
      " 14  ActionsInPAC          3395 non-null   float64\n",
      " 15  TotalMapExplored      3395 non-null   int64  \n",
      " 16  WorkersMade           3395 non-null   float64\n",
      " 17  UniqueUnitsMade       3395 non-null   int64  \n",
      " 18  ComplexUnitsMade      3395 non-null   float64\n",
      " 19  ComplexAbilitiesUsed  3395 non-null   float64\n",
      "dtypes: float64(12), int64(5), object(3)\n",
      "memory usage: 530.6+ KB\n"
     ]
    }
   ],
   "source": [
    "# Seems to be no missing values, but let's take a look at our column types to find any \"hidden\" missingness\n",
    "df.info()"
   ]
  },
  {
   "attachments": {},
   "cell_type": "markdown",
   "metadata": {},
   "source": [
    "We expect the Age, Hours per week, and Total Hours to be numeric types, so let's check those columns to see if anything is out of place"
   ]
  },
  {
   "cell_type": "code",
   "execution_count": 33,
   "metadata": {},
   "outputs": [
    {
     "name": "stdout",
     "output_type": "stream",
     "text": [
      "Non-numeric entries in 'Age': ['?']\n",
      "Number of Ages with '?': 55\n",
      "\n",
      "Non-numeric entries in 'HoursPerWeek': ['?']\n",
      "Number of HoursPerWeek with '?': 56\n",
      "\n",
      "Non-numeric entries in 'TotalHours': ['?']\n",
      "Number of TotalHours with '?': 57\n",
      "\n"
     ]
    }
   ],
   "source": [
    "# Age, HoursPerWeek, and TotalHours have ?'s in place for missing values\n",
    "unique_ages = df['Age'].unique()\n",
    "non_numeric_ages = [not x.isnumeric() for x in unique_ages]\n",
    "print(f\"Non-numeric entries in 'Age': {unique_ages[non_numeric_ages]}\")\n",
    "num_non_numeric_entries = df[df['Age'].isin(unique_ages[non_numeric_ages])].shape[0]\n",
    "print(f\"Number of Ages with '?': {num_non_numeric_entries}\")\n",
    "print()\n",
    "\n",
    "unique_hrsperweek = df['HoursPerWeek'].unique()\n",
    "non_numeric_hrsperweek = [not x.isnumeric() for x in unique_hrsperweek]\n",
    "print(f\"Non-numeric entries in 'HoursPerWeek': {unique_hrsperweek[non_numeric_hrsperweek]}\")\n",
    "num_non_numeric_entries = df[df['HoursPerWeek'].isin(unique_hrsperweek[non_numeric_hrsperweek])].shape[0]\n",
    "print(f\"Number of HoursPerWeek with '?': {num_non_numeric_entries}\")\n",
    "print()\n",
    "\n",
    "unique_totalhrs = df['TotalHours'].unique()\n",
    "non_numeric_totalhrs = [not x.isnumeric() for x in unique_totalhrs]\n",
    "num_non_numeric_entries = df[df['TotalHours'].isin(unique_totalhrs[non_numeric_totalhrs])].shape[0]\n",
    "print(f\"Non-numeric entries in 'TotalHours': {unique_totalhrs[non_numeric_totalhrs]}\")\n",
    "print(f\"Number of TotalHours with '?': {num_non_numeric_entries}\")\n",
    "print()\n"
   ]
  },
  {
   "attachments": {},
   "cell_type": "markdown",
   "metadata": {},
   "source": [
    "Replace '?' with NaN"
   ]
  },
  {
   "cell_type": "code",
   "execution_count": 34,
   "metadata": {},
   "outputs": [
    {
     "data": {
      "text/plain": [
       "Age             55\n",
       "HoursPerWeek    56\n",
       "TotalHours      57\n",
       "dtype: int64"
      ]
     },
     "execution_count": 34,
     "metadata": {},
     "output_type": "execute_result"
    }
   ],
   "source": [
    "df.loc[:, ['Age', 'HoursPerWeek', 'TotalHours']] = df[['Age', 'HoursPerWeek', 'TotalHours']].apply(lambda x: x.replace('?', np.NaN).astype(np.float64))\n",
    "\n",
    "# we can verify we replaced the '?'s correctly\n",
    "df[['Age', 'HoursPerWeek', 'TotalHours']].isna().sum()"
   ]
  },
  {
   "attachments": {},
   "cell_type": "markdown",
   "metadata": {},
   "source": [
    "I'll convert the LeagueIndex column to a categorical type"
   ]
  },
  {
   "cell_type": "code",
   "execution_count": 35,
   "metadata": {},
   "outputs": [],
   "source": [
    "df['LeagueIndex'] = df['LeagueIndex'].astype('category')"
   ]
  },
  {
   "attachments": {},
   "cell_type": "markdown",
   "metadata": {},
   "source": [
    "Before we consider removing these rows/columns, let's explore each of them to determine whether they explain anything about our target.\n",
    "\n",
    "First, we we'll take a look at the distribution of missingness among our target variable, League Index."
   ]
  },
  {
   "cell_type": "code",
   "execution_count": 36,
   "metadata": {},
   "outputs": [
    {
     "data": {
      "text/plain": [
       "LeagueIndex\n",
       "8    55\n",
       "1     0\n",
       "2     0\n",
       "3     0\n",
       "4     0\n",
       "5     0\n",
       "6     0\n",
       "7     0\n",
       "Name: count, dtype: int64"
      ]
     },
     "execution_count": 36,
     "metadata": {},
     "output_type": "execute_result"
    }
   ],
   "source": [
    "df[df['Age'].isna()]['LeagueIndex'].value_counts()"
   ]
  },
  {
   "attachments": {},
   "cell_type": "markdown",
   "metadata": {},
   "source": [
    "The missing ages are all from the League 8, which means that the missingness is likely Not Missing At Random (NMAR). It was likely left out by choice during the data collection process and therefore will probably be absent from future data collection processes.\n",
    "\n",
    "Before I completely remove Age column, I'll take a look at the distribution of Age in terms of the player's rank. If there isn't any significant trend, it's safe to say removing the Age column won't affect the model. \n",
    "\n",
    "Below, we can clearly see that there is no distinct trend for Age in regards to LeagueIndex, so we'll go ahead and remove the age column."
   ]
  },
  {
   "cell_type": "code",
   "execution_count": 37,
   "metadata": {},
   "outputs": [
    {
     "data": {
      "text/plain": [
       "<Axes: xlabel='LeagueIndex', ylabel='Age'>"
      ]
     },
     "execution_count": 37,
     "metadata": {},
     "output_type": "execute_result"
    },
    {
     "data": {
      "image/png": "[encoded data removed]",
      "text/plain": [
       "<Figure size 640x480 with 1 Axes>"
      ]
     },
     "metadata": {},
     "output_type": "display_data"
    }
   ],
   "source": [
    "sns.boxplot(df, x='LeagueIndex', y='Age')"
   ]
  },
  {
   "cell_type": "code",
   "execution_count": 38,
   "metadata": {},
   "outputs": [],
   "source": [
    "df = df.drop(['Age'], axis=1)"
   ]
  },
  {
   "attachments": {},
   "cell_type": "markdown",
   "metadata": {},
   "source": [
    "Next, we'll take a look at the 'HoursPerWeek' column and how that relates to our player's rank.\n",
    "\n",
    "Below, we can see that the mean 'HoursPerWeek' spent on the game steadily increases as the player's rank increases."
   ]
  },
  {
   "cell_type": "code",
   "execution_count": 39,
   "metadata": {},
   "outputs": [
    {
     "data": {
      "text/html": [
       "<div>\n",
       "<style scoped>\n",
       "    .dataframe tbody tr th:only-of-type {\n",
       "        vertical-align: middle;\n",
       "    }\n",
       "\n",
       "    .dataframe tbody tr th {\n",
       "        vertical-align: top;\n",
       "    }\n",
       "\n",
       "    .dataframe thead tr th {\n",
       "        text-align: left;\n",
       "    }\n",
       "\n",
       "    .dataframe thead tr:last-of-type th {\n",
       "        text-align: right;\n",
       "    }\n",
       "</style>\n",
       "<table border=\"1\" class=\"dataframe\">\n",
       "  <thead>\n",
       "    <tr>\n",
       "      <th></th>\n",
       "      <th colspan=\"3\" halign=\"left\">HoursPerWeek</th>\n",
       "    </tr>\n",
       "    <tr>\n",
       "      <th></th>\n",
       "      <th>min</th>\n",
       "      <th>max</th>\n",
       "      <th>mean</th>\n",
       "    </tr>\n",
       "    <tr>\n",
       "      <th>LeagueIndex</th>\n",
       "      <th></th>\n",
       "      <th></th>\n",
       "      <th></th>\n",
       "    </tr>\n",
       "  </thead>\n",
       "  <tbody>\n",
       "    <tr>\n",
       "      <th>1</th>\n",
       "      <td>2.0</td>\n",
       "      <td>70.0</td>\n",
       "      <td>13.125749</td>\n",
       "    </tr>\n",
       "    <tr>\n",
       "      <th>2</th>\n",
       "      <td>2.0</td>\n",
       "      <td>72.0</td>\n",
       "      <td>13.29683</td>\n",
       "    </tr>\n",
       "    <tr>\n",
       "      <th>3</th>\n",
       "      <td>2.0</td>\n",
       "      <td>80.0</td>\n",
       "      <td>13.949367</td>\n",
       "    </tr>\n",
       "    <tr>\n",
       "      <th>4</th>\n",
       "      <td>2.0</td>\n",
       "      <td>96.0</td>\n",
       "      <td>14.022195</td>\n",
       "    </tr>\n",
       "    <tr>\n",
       "      <th>5</th>\n",
       "      <td>2.0</td>\n",
       "      <td>96.0</td>\n",
       "      <td>16.183851</td>\n",
       "    </tr>\n",
       "    <tr>\n",
       "      <th>6</th>\n",
       "      <td>0.0</td>\n",
       "      <td>168.0</td>\n",
       "      <td>21.088567</td>\n",
       "    </tr>\n",
       "    <tr>\n",
       "      <th>7</th>\n",
       "      <td>6.0</td>\n",
       "      <td>98.0</td>\n",
       "      <td>31.714286</td>\n",
       "    </tr>\n",
       "    <tr>\n",
       "      <th>8</th>\n",
       "      <td>NaN</td>\n",
       "      <td>NaN</td>\n",
       "      <td>NaN</td>\n",
       "    </tr>\n",
       "  </tbody>\n",
       "</table>\n",
       "</div>"
      ],
      "text/plain": [
       "            HoursPerWeek                  \n",
       "                     min    max       mean\n",
       "LeagueIndex                               \n",
       "1                    2.0   70.0  13.125749\n",
       "2                    2.0   72.0   13.29683\n",
       "3                    2.0   80.0  13.949367\n",
       "4                    2.0   96.0  14.022195\n",
       "5                    2.0   96.0  16.183851\n",
       "6                    0.0  168.0  21.088567\n",
       "7                    6.0   98.0  31.714286\n",
       "8                    NaN    NaN        NaN"
      ]
     },
     "execution_count": 39,
     "metadata": {},
     "output_type": "execute_result"
    }
   ],
   "source": [
    "df.groupby(['LeagueIndex'])[['HoursPerWeek']].agg(['min', 'max', 'mean'])"
   ]
  },
  {
   "attachments": {},
   "cell_type": "markdown",
   "metadata": {},
   "source": [
    "Let's look at how each of our features is linearly correlated with our player's ranks below.\n",
    "\n",
    "In terms of our columns with missing data, we can see that 'TotalHours' doesn't seem to have a strong linear correlation with LeagueIndex. We'll drop this column because it probably won't give us good insight into the player's ranks that we couldn't get from other columns.\n",
    "\n",
    "On the other hand, 'HoursPerWeek' has a somewhat strong correlation with 'LeagueIndex', so we'll see if there is a way to impute the data later."
   ]
  },
  {
   "cell_type": "code",
   "execution_count": 40,
   "metadata": {},
   "outputs": [],
   "source": [
    "correlation_vals = df.corr().loc[:, ['LeagueIndex']].apply(lambda x: np.round(x, 2)).reset_index()"
   ]
  },
  {
   "cell_type": "code",
   "execution_count": 41,
   "metadata": {},
   "outputs": [
    {
     "data": {
      "image/png": "[encoded data removed]",
      "text/plain": [
       "<Figure size 1000x800 with 1 Axes>"
      ]
     },
     "metadata": {},
     "output_type": "display_data"
    }
   ],
   "source": [
    "plt.figure(figsize=(10, 8))\n",
    "sns.barplot(correlation_vals, x='LeagueIndex', y='index')\n",
    "plt.show()"
   ]
  },
  {
   "cell_type": "code",
   "execution_count": 42,
   "metadata": {},
   "outputs": [
    {
     "data": {
      "application/vnd.plotly.v1+json": {
       "config": {
        "plotlyServerURL": "https://plot.ly"
       },
       "data": [
        {
         "alignmentgroup": "True",
         "hovertemplate": "index=%{x}<br>LeagueIndex=%{marker.color}<extra></extra>",
         "legendgroup": "",
         "marker": {
          "color": [
           0.1,
           1,
           0.22,
           0.02,
           0.66,
           0.49,
           0.53,
           0.35,
           0.31,
           0.23,
           0.61,
           -0.55,
           -0.67,
           0.14,
           0.22,
           0.3,
           0.13,
           0.15,
           0.15
          ],
          "coloraxis": "coloraxis",
          "pattern": {
           "shape": ""
          }
         },
         "name": "",
         "offsetgroup": "",
         "orientation": "v",
         "showlegend": false,
         "text": [
          0.1,
          1,
          0.22,
          0.02,
          0.66,
          0.49,
          0.53,
          0.35,
          0.31,
          0.23,
          0.61,
          -0.55,
          -0.67,
          0.14,
          0.22,
          0.3,
          0.13,
          0.15,
          0.15
         ],
         "textposition": "auto",
         "type": "bar",
         "x": [
          "GameID",
          "LeagueIndex",
          "HoursPerWeek",
          "TotalHours",
          "APM",
          "SelectByHotkeys",
          "AssignToHotkeys",
          "UniqueHotkeys",
          "MinimapAttacks",
          "MinimapRightClicks",
          "NumberOfPACs",
          "GapBetweenPACs",
          "ActionLatency",
          "ActionsInPAC",
          "TotalMapExplored",
          "WorkersMade",
          "UniqueUnitsMade",
          "ComplexUnitsMade",
          "ComplexAbilitiesUsed"
         ],
         "xaxis": "x",
         "y": [
          0.1,
          1,
          0.22,
          0.02,
          0.66,
          0.49,
          0.53,
          0.35,
          0.31,
          0.23,
          0.61,
          -0.55,
          -0.67,
          0.14,
          0.22,
          0.3,
          0.13,
          0.15,
          0.15
         ],
         "yaxis": "y"
        }
       ],
       "layout": {
        "barmode": "relative",
        "coloraxis": {
         "colorbar": {
          "title": {
           "text": "LeagueIndex"
          }
         },
         "colorscale": [
          [
           0,
           "#0d0887"
          ],
          [
           0.1111111111111111,
           "#46039f"
          ],
          [
           0.2222222222222222,
           "#7201a8"
          ],
          [
           0.3333333333333333,
           "#9c179e"
          ],
          [
           0.4444444444444444,
           "#bd3786"
          ],
          [
           0.5555555555555556,
           "#d8576b"
          ],
          [
           0.6666666666666666,
           "#ed7953"
          ],
          [
           0.7777777777777778,
           "#fb9f3a"
          ],
          [
           0.8888888888888888,
           "#fdca26"
          ],
          [
           1,
           "#f0f921"
          ]
         ]
        },
        "legend": {
         "tracegroupgap": 0
        },
        "margin": {
         "t": 60
        },
        "template": {
         "data": {
          "bar": [
           {
            "error_x": {
             "color": "#2a3f5f"
            },
            "error_y": {
             "color": "#2a3f5f"
            },
            "marker": {
             "line": {
              "color": "#E5ECF6",
              "width": 0.5
             },
             "pattern": {
              "fillmode": "overlay",
              "size": 10,
              "solidity": 0.2
             }
            },
            "type": "bar"
           }
          ],
          "barpolar": [
           {
            "marker": {
             "line": {
              "color": "#E5ECF6",
              "width": 0.5
             },
             "pattern": {
              "fillmode": "overlay",
              "size": 10,
              "solidity": 0.2
             }
            },
            "type": "barpolar"
           }
          ],
          "carpet": [
           {
            "aaxis": {
             "endlinecolor": "#2a3f5f",
             "gridcolor": "white",
             "linecolor": "white",
             "minorgridcolor": "white",
             "startlinecolor": "#2a3f5f"
            },
            "baxis": {
             "endlinecolor": "#2a3f5f",
             "gridcolor": "white",
             "linecolor": "white",
             "minorgridcolor": "white",
             "startlinecolor": "#2a3f5f"
            },
            "type": "carpet"
           }
          ],
          "choropleth": [
           {
            "colorbar": {
             "outlinewidth": 0,
             "ticks": ""
            },
            "type": "choropleth"
           }
          ],
          "contour": [
           {
            "colorbar": {
             "outlinewidth": 0,
             "ticks": ""
            },
            "colorscale": [
             [
              0,
              "#0d0887"
             ],
             [
              0.1111111111111111,
              "#46039f"
             ],
             [
              0.2222222222222222,
              "#7201a8"
             ],
             [
              0.3333333333333333,
              "#9c179e"
             ],
             [
              0.4444444444444444,
              "#bd3786"
             ],
             [
              0.5555555555555556,
              "#d8576b"
             ],
             [
              0.6666666666666666,
              "#ed7953"
             ],
             [
              0.7777777777777778,
              "#fb9f3a"
             ],
             [
              0.8888888888888888,
              "#fdca26"
             ],
             [
              1,
              "#f0f921"
             ]
            ],
            "type": "contour"
           }
          ],
          "contourcarpet": [
           {
            "colorbar": {
             "outlinewidth": 0,
             "ticks": ""
            },
            "type": "contourcarpet"
           }
          ],
          "heatmap": [
           {
            "colorbar": {
             "outlinewidth": 0,
             "ticks": ""
            },
            "colorscale": [
             [
              0,
              "#0d0887"
             ],
             [
              0.1111111111111111,
              "#46039f"
             ],
             [
              0.2222222222222222,
              "#7201a8"
             ],
             [
              0.3333333333333333,
              "#9c179e"
             ],
             [
              0.4444444444444444,
              "#bd3786"
             ],
             [
              0.5555555555555556,
              "#d8576b"
             ],
             [
              0.6666666666666666,
              "#ed7953"
             ],
             [
              0.7777777777777778,
              "#fb9f3a"
             ],
             [
              0.8888888888888888,
              "#fdca26"
             ],
             [
              1,
              "#f0f921"
             ]
            ],
            "type": "heatmap"
           }
          ],
          "heatmapgl": [
           {
            "colorbar": {
             "outlinewidth": 0,
             "ticks": ""
            },
            "colorscale": [
             [
              0,
              "#0d0887"
             ],
             [
              0.1111111111111111,
              "#46039f"
             ],
             [
              0.2222222222222222,
              "#7201a8"
             ],
             [
              0.3333333333333333,
              "#9c179e"
             ],
             [
              0.4444444444444444,
              "#bd3786"
             ],
             [
              0.5555555555555556,
              "#d8576b"
             ],
             [
              0.6666666666666666,
              "#ed7953"
             ],
             [
              0.7777777777777778,
              "#fb9f3a"
             ],
             [
              0.8888888888888888,
              "#fdca26"
             ],
             [
              1,
              "#f0f921"
             ]
            ],
            "type": "heatmapgl"
           }
          ],
          "histogram": [
           {
            "marker": {
             "pattern": {
              "fillmode": "overlay",
              "size": 10,
              "solidity": 0.2
             }
            },
            "type": "histogram"
           }
          ],
          "histogram2d": [
           {
            "colorbar": {
             "outlinewidth": 0,
             "ticks": ""
            },
            "colorscale": [
             [
              0,
              "#0d0887"
             ],
             [
              0.1111111111111111,
              "#46039f"
             ],
             [
              0.2222222222222222,
              "#7201a8"
             ],
             [
              0.3333333333333333,
              "#9c179e"
             ],
             [
              0.4444444444444444,
              "#bd3786"
             ],
             [
              0.5555555555555556,
              "#d8576b"
             ],
             [
              0.6666666666666666,
              "#ed7953"
             ],
             [
              0.7777777777777778,
              "#fb9f3a"
             ],
             [
              0.8888888888888888,
              "#fdca26"
             ],
             [
              1,
              "#f0f921"
             ]
            ],
            "type": "histogram2d"
           }
          ],
          "histogram2dcontour": [
           {
            "colorbar": {
             "outlinewidth": 0,
             "ticks": ""
            },
            "colorscale": [
             [
              0,
              "#0d0887"
             ],
             [
              0.1111111111111111,
              "#46039f"
             ],
             [
              0.2222222222222222,
              "#7201a8"
             ],
             [
              0.3333333333333333,
              "#9c179e"
             ],
             [
              0.4444444444444444,
              "#bd3786"
             ],
             [
              0.5555555555555556,
              "#d8576b"
             ],
             [
              0.6666666666666666,
              "#ed7953"
             ],
             [
              0.7777777777777778,
              "#fb9f3a"
             ],
             [
              0.8888888888888888,
              "#fdca26"
             ],
             [
              1,
              "#f0f921"
             ]
            ],
            "type": "histogram2dcontour"
           }
          ],
          "mesh3d": [
           {
            "colorbar": {
             "outlinewidth": 0,
             "ticks": ""
            },
            "type": "mesh3d"
           }
          ],
          "parcoords": [
           {
            "line": {
             "colorbar": {
              "outlinewidth": 0,
              "ticks": ""
             }
            },
            "type": "parcoords"
           }
          ],
          "pie": [
           {
            "automargin": true,
            "type": "pie"
           }
          ],
          "scatter": [
           {
            "fillpattern": {
             "fillmode": "overlay",
             "size": 10,
             "solidity": 0.2
            },
            "type": "scatter"
           }
          ],
          "scatter3d": [
           {
            "line": {
             "colorbar": {
              "outlinewidth": 0,
              "ticks": ""
             }
            },
            "marker": {
             "colorbar": {
              "outlinewidth": 0,
              "ticks": ""
             }
            },
            "type": "scatter3d"
           }
          ],
          "scattercarpet": [
           {
            "marker": {
             "colorbar": {
              "outlinewidth": 0,
              "ticks": ""
             }
            },
            "type": "scattercarpet"
           }
          ],
          "scattergeo": [
           {
            "marker": {
             "colorbar": {
              "outlinewidth": 0,
              "ticks": ""
             }
            },
            "type": "scattergeo"
           }
          ],
          "scattergl": [
           {
            "marker": {
             "colorbar": {
              "outlinewidth": 0,
              "ticks": ""
             }
            },
            "type": "scattergl"
           }
          ],
          "scattermapbox": [
           {
            "marker": {
             "colorbar": {
              "outlinewidth": 0,
              "ticks": ""
             }
            },
            "type": "scattermapbox"
           }
          ],
          "scatterpolar": [
           {
            "marker": {
             "colorbar": {
              "outlinewidth": 0,
              "ticks": ""
             }
            },
            "type": "scatterpolar"
           }
          ],
          "scatterpolargl": [
           {
            "marker": {
             "colorbar": {
              "outlinewidth": 0,
              "ticks": ""
             }
            },
            "type": "scatterpolargl"
           }
          ],
          "scatterternary": [
           {
            "marker": {
             "colorbar": {
              "outlinewidth": 0,
              "ticks": ""
             }
            },
            "type": "scatterternary"
           }
          ],
          "surface": [
           {
            "colorbar": {
             "outlinewidth": 0,
             "ticks": ""
            },
            "colorscale": [
             [
              0,
              "#0d0887"
             ],
             [
              0.1111111111111111,
              "#46039f"
             ],
             [
              0.2222222222222222,
              "#7201a8"
             ],
             [
              0.3333333333333333,
              "#9c179e"
             ],
             [
              0.4444444444444444,
              "#bd3786"
             ],
             [
              0.5555555555555556,
              "#d8576b"
             ],
             [
              0.6666666666666666,
              "#ed7953"
             ],
             [
              0.7777777777777778,
              "#fb9f3a"
             ],
             [
              0.8888888888888888,
              "#fdca26"
             ],
             [
              1,
              "#f0f921"
             ]
            ],
            "type": "surface"
           }
          ],
          "table": [
           {
            "cells": {
             "fill": {
              "color": "#EBF0F8"
             },
             "line": {
              "color": "white"
             }
            },
            "header": {
             "fill": {
              "color": "#C8D4E3"
             },
             "line": {
              "color": "white"
             }
            },
            "type": "table"
           }
          ]
         },
         "layout": {
          "annotationdefaults": {
           "arrowcolor": "#2a3f5f",
           "arrowhead": 0,
           "arrowwidth": 1
          },
          "autotypenumbers": "strict",
          "coloraxis": {
           "colorbar": {
            "outlinewidth": 0,
            "ticks": ""
           }
          },
          "colorscale": {
           "diverging": [
            [
             0,
             "#8e0152"
            ],
            [
             0.1,
             "#c51b7d"
            ],
            [
             0.2,
             "#de77ae"
            ],
            [
             0.3,
             "#f1b6da"
            ],
            [
             0.4,
             "#fde0ef"
            ],
            [
             0.5,
             "#f7f7f7"
            ],
            [
             0.6,
             "#e6f5d0"
            ],
            [
             0.7,
             "#b8e186"
            ],
            [
             0.8,
             "#7fbc41"
            ],
            [
             0.9,
             "#4d9221"
            ],
            [
             1,
             "#276419"
            ]
           ],
           "sequential": [
            [
             0,
             "#0d0887"
            ],
            [
             0.1111111111111111,
             "#46039f"
            ],
            [
             0.2222222222222222,
             "#7201a8"
            ],
            [
             0.3333333333333333,
             "#9c179e"
            ],
            [
             0.4444444444444444,
             "#bd3786"
            ],
            [
             0.5555555555555556,
             "#d8576b"
            ],
            [
             0.6666666666666666,
             "#ed7953"
            ],
            [
             0.7777777777777778,
             "#fb9f3a"
            ],
            [
             0.8888888888888888,
             "#fdca26"
            ],
            [
             1,
             "#f0f921"
            ]
           ],
           "sequentialminus": [
            [
             0,
             "#0d0887"
            ],
            [
             0.1111111111111111,
             "#46039f"
            ],
            [
             0.2222222222222222,
             "#7201a8"
            ],
            [
             0.3333333333333333,
             "#9c179e"
            ],
            [
             0.4444444444444444,
             "#bd3786"
            ],
            [
             0.5555555555555556,
             "#d8576b"
            ],
            [
             0.6666666666666666,
             "#ed7953"
            ],
            [
             0.7777777777777778,
             "#fb9f3a"
            ],
            [
             0.8888888888888888,
             "#fdca26"
            ],
            [
             1,
             "#f0f921"
            ]
           ]
          },
          "colorway": [
           "#636efa",
           "#EF553B",
           "#00cc96",
           "#ab63fa",
           "#FFA15A",
           "#19d3f3",
           "#FF6692",
           "#B6E880",
           "#FF97FF",
           "#FECB52"
          ],
          "font": {
           "color": "#2a3f5f"
          },
          "geo": {
           "bgcolor": "white",
           "lakecolor": "white",
           "landcolor": "#E5ECF6",
           "showlakes": true,
           "showland": true,
           "subunitcolor": "white"
          },
          "hoverlabel": {
           "align": "left"
          },
          "hovermode": "closest",
          "mapbox": {
           "style": "light"
          },
          "paper_bgcolor": "white",
          "plot_bgcolor": "#E5ECF6",
          "polar": {
           "angularaxis": {
            "gridcolor": "white",
            "linecolor": "white",
            "ticks": ""
           },
           "bgcolor": "#E5ECF6",
           "radialaxis": {
            "gridcolor": "white",
            "linecolor": "white",
            "ticks": ""
           }
          },
          "scene": {
           "xaxis": {
            "backgroundcolor": "#E5ECF6",
            "gridcolor": "white",
            "gridwidth": 2,
            "linecolor": "white",
            "showbackground": true,
            "ticks": "",
            "zerolinecolor": "white"
           },
           "yaxis": {
            "backgroundcolor": "#E5ECF6",
            "gridcolor": "white",
            "gridwidth": 2,
            "linecolor": "white",
            "showbackground": true,
            "ticks": "",
            "zerolinecolor": "white"
           },
           "zaxis": {
            "backgroundcolor": "#E5ECF6",
            "gridcolor": "white",
            "gridwidth": 2,
            "linecolor": "white",
            "showbackground": true,
            "ticks": "",
            "zerolinecolor": "white"
           }
          },
          "shapedefaults": {
           "line": {
            "color": "#2a3f5f"
           }
          },
          "ternary": {
           "aaxis": {
            "gridcolor": "white",
            "linecolor": "white",
            "ticks": ""
           },
           "baxis": {
            "gridcolor": "white",
            "linecolor": "white",
            "ticks": ""
           },
           "bgcolor": "#E5ECF6",
           "caxis": {
            "gridcolor": "white",
            "linecolor": "white",
            "ticks": ""
           }
          },
          "title": {
           "x": 0.05
          },
          "xaxis": {
           "automargin": true,
           "gridcolor": "white",
           "linecolor": "white",
           "ticks": "",
           "title": {
            "standoff": 15
           },
           "zerolinecolor": "white",
           "zerolinewidth": 2
          },
          "yaxis": {
           "automargin": true,
           "gridcolor": "white",
           "linecolor": "white",
           "ticks": "",
           "title": {
            "standoff": 15
           },
           "zerolinecolor": "white",
           "zerolinewidth": 2
          }
         }
        },
        "xaxis": {
         "anchor": "y",
         "domain": [
          0,
          1
         ],
         "title": {
          "text": "index"
         }
        },
        "yaxis": {
         "anchor": "x",
         "domain": [
          0,
          1
         ],
         "title": {
          "text": "LeagueIndex"
         }
        }
       }
      }
     },
     "metadata": {},
     "output_type": "display_data"
    },
    {
     "data": {
      "text/plain": [
       "<Figure size 100x1000 with 0 Axes>"
      ]
     },
     "metadata": {},
     "output_type": "display_data"
    }
   ],
   "source": [
    "plt.figure(figsize=(1, 10))\n",
    "px.bar(correlation_vals, x='index', y='LeagueIndex', color='LeagueIndex', text='LeagueIndex')"
   ]
  },
  {
   "cell_type": "code",
   "execution_count": 43,
   "metadata": {},
   "outputs": [],
   "source": [
    "df = df.drop(['TotalHours'], axis=1)"
   ]
  },
  {
   "attachments": {},
   "cell_type": "markdown",
   "metadata": {},
   "source": [
    "The 'HoursPerWeek' is missing for every entry of League Index 8 and one for League Index 5. We'll remove this feature as well because I would need more time to impute good values."
   ]
  },
  {
   "cell_type": "code",
   "execution_count": 44,
   "metadata": {},
   "outputs": [
    {
     "data": {
      "text/plain": [
       "LeagueIndex\n",
       "8    55\n",
       "5     1\n",
       "1     0\n",
       "2     0\n",
       "3     0\n",
       "4     0\n",
       "6     0\n",
       "7     0\n",
       "Name: count, dtype: int64"
      ]
     },
     "execution_count": 44,
     "metadata": {},
     "output_type": "execute_result"
    }
   ],
   "source": [
    "df[df['HoursPerWeek'].isna()]['LeagueIndex'].value_counts()"
   ]
  },
  {
   "cell_type": "code",
   "execution_count": 45,
   "metadata": {},
   "outputs": [],
   "source": [
    "df = df.drop(['HoursPerWeek', 'GameID'], axis=1)"
   ]
  },
  {
   "attachments": {},
   "cell_type": "markdown",
   "metadata": {},
   "source": [
    "----\n",
    "\n",
    "## Models\n",
    "\n",
    "----\n",
    "\n",
    "I chose various models and tuned them using Grid Search Cross Validation. The best model turned out to be a Random Forests Classifier.\n",
    "\n",
    "**Best Model**\n",
    "- **Random Forest**\n",
    "    - Train Accuracy: 100%\n",
    "    - Test Accuracy: ~41.53%\n",
    "\n",
    "**Other Models**\n",
    "- **Logistic Regression Classification**\n",
    "    - Train Accuracy: ~42.75%\n",
    "    - Test Accuracy: ~38.88%\n",
    "- **Gradient Boosted Regression**\n",
    "    - Train Accuracy: 100.0%\n",
    "    - Test Accuracy: ~39.47%\n",
    "- **K Nearest Neighbors Classifier**\n",
    "    - Train Accuracy: 100.0%\n",
    "    - Test Accuracy: ~30.49%\n",
    "- **Decisicon Tree Classifier**\n",
    "    - Train Accuracy: 100.0%\n",
    "    - Test Accuracy: ~30.49%\n",
    "- **Support Vector Classifier**\n",
    "    - Train Accuracy: 30.04\n",
    "    - Test Accuracy: 28.87"
   ]
  },
  {
   "cell_type": "code",
   "execution_count": 46,
   "metadata": {},
   "outputs": [],
   "source": [
    "# Models\n",
    "from sklearn.linear_model import LogisticRegression\n",
    "from sklearn.tree import DecisionTreeClassifier\n",
    "from sklearn.svm import SVC\n",
    "from sklearn.neighbors import KNeighborsClassifier\n",
    "from sklearn.naive_bayes import GaussianNB\n",
    "from sklearn.ensemble import RandomForestClassifier, GradientBoostingClassifier\n",
    "\n",
    "# Param Tuning & Data Prep\n",
    "from sklearn.preprocessing import StandardScaler\n",
    "from sklearn.model_selection import train_test_split, GridSearchCV\n",
    "from sklearn.pipeline import Pipeline\n",
    "\n",
    "# metrics\n",
    "from sklearn.metrics import confusion_matrix, accuracy_score, precision_score"
   ]
  },
  {
   "cell_type": "code",
   "execution_count": 66,
   "metadata": {},
   "outputs": [],
   "source": [
    "# Define the classifiers and their corresponding parameter grids for grid search\n",
    "classifiers_params = [\n",
    "    {\n",
    "        'classifier': LogisticRegression(max_iter=50_000), # max_iter suppresses convergence warning\n",
    "        'params': {\n",
    "            'C': [0.1, 1, 10],\n",
    "            'penalty': ['l1', 'l2'],\n",
    "            'multi_class': ['ovr', 'multinomial']\n",
    "        }\n",
    "    },\n",
    "    {\n",
    "        'classifier': RandomForestClassifier(),\n",
    "        'params': {\n",
    "            'n_estimators': [100, 200, 500],\n",
    "            'max_depth': [None, 5, 10, 15, 20]\n",
    "        }\n",
    "    },\n",
    "    {\n",
    "        'classifier': GradientBoostingClassifier(),\n",
    "        'params': {\n",
    "            'n_estimators': [100, 200],\n",
    "            'max_depth': [3, 5, 10]\n",
    "        }\n",
    "    },\n",
    "    {\n",
    "        'classifier': SVC(),\n",
    "        'params': {\n",
    "            'C': [0.01, 1, 10],\n",
    "            'kernel': ['rbf'],\n",
    "            'decision_function_shape': ['ovr', 'ovo']\n",
    "        }\n",
    "    },\n",
    "    {\n",
    "        'classifier': KNeighborsClassifier(),\n",
    "        'params': {\n",
    "            'n_neighbors': [3, 5, 7, 11, 13, 15],\n",
    "            'weights': ['uniform', 'distance']\n",
    "        }\n",
    "    },\n",
    "    {\n",
    "        'classifier': DecisionTreeClassifier(),\n",
    "        'params': {\n",
    "            'max_depth': [None, 5, 10]\n",
    "        }\n",
    "    },\n",
    "    {'classifier': GaussianNB(),\n",
    "     'params': {\n",
    "     }}\n",
    "]"
   ]
  },
  {
   "attachments": {},
   "cell_type": "markdown",
   "metadata": {},
   "source": [
    "For the baseline models, I'm going to dorp all of the columns containing missing values. In the final model, I'll impute values into the 'HoursPerWeek'."
   ]
  },
  {
   "cell_type": "code",
   "execution_count": 67,
   "metadata": {},
   "outputs": [],
   "source": [
    "# Define your dataset (X) and target variable (y)\n",
    "X = df.drop(['LeagueIndex'], axis=1) \n",
    "y = df['LeagueIndex']"
   ]
  },
  {
   "cell_type": "code",
   "execution_count": 68,
   "metadata": {},
   "outputs": [],
   "source": [
    "X = df.drop(['LeagueIndex'], axis=1)\n",
    "y = df['LeagueIndex']"
   ]
  },
  {
   "cell_type": "code",
   "execution_count": 69,
   "metadata": {},
   "outputs": [],
   "source": [
    "@ignore_warnings(category=ConvergenceWarning)\n",
    "def perform_experiments(X_train, X_test, y_train, y_test) -> list:\n",
    "    \"\"\"\n",
    "    Performs various classification models on the given test and train datasets.\n",
    "    Prints each model's train and test accuracies.\n",
    "    \n",
    "    Returns a list of the best models.\n",
    "\n",
    "    Args:\n",
    "        X_train (_type_): _description_\n",
    "        X_test (_type_): _description_\n",
    "        y_train (_type_): _description_\n",
    "        y_test (_type_): _description_\n",
    "\n",
    "    Returns:\n",
    "        list: _description_\n",
    "    \"\"\"\n",
    "    best_models = []\n",
    "    for classifier in classifiers_params:\n",
    "        # perform gridsearch for the best params\n",
    "        grid_search = GridSearchCV(classifier['classifier'], classifier['params'], cv=5, n_jobs=-1)\n",
    "        grid_search.fit(X_train, y_train)\n",
    "        \n",
    "        # save the best model\n",
    "        best_model = grid_search.best_estimator_\n",
    "        best_models.append(best_model)\n",
    "\n",
    "        # Evaluate the best model on train and test sets\n",
    "        train_accuracy = accuracy_score(y_train, best_model.predict(X_train))\n",
    "        test_accuracy = accuracy_score(y_test, best_model.predict(X_test))\n",
    "\n",
    "        # Print accuracy scores\n",
    "        print(\"Classifier:\", best_model.__class__.__name__)\n",
    "        print(\"Train Accuracy:\", 100 * np.round(train_accuracy, 4))\n",
    "        print(\"Test Accuracy:\", 100 * np.round(test_accuracy, 4))\n",
    "        print()\n",
    "    return best_models\n"
   ]
  },
  {
   "cell_type": "code",
   "execution_count": 70,
   "metadata": {},
   "outputs": [
    {
     "name": "stdout",
     "output_type": "stream",
     "text": [
      "Classifier: LogisticRegression\n",
      "Train Accuracy: 39.36\n",
      "Test Accuracy: 39.76\n",
      "\n",
      "Classifier: RandomForestClassifier\n",
      "Train Accuracy: 100.0\n",
      "Test Accuracy: 41.24\n",
      "\n",
      "Classifier: GradientBoostingClassifier\n",
      "Train Accuracy: 100.0\n",
      "Test Accuracy: 40.94\n",
      "\n",
      "Classifier: SVC\n",
      "Train Accuracy: 38.769999999999996\n",
      "Test Accuracy: 38.73\n",
      "\n",
      "Classifier: KNeighborsClassifier\n",
      "Train Accuracy: 100.0\n",
      "Test Accuracy: 34.02\n",
      "\n",
      "Classifier: DecisionTreeClassifier\n",
      "Train Accuracy: 43.96\n",
      "Test Accuracy: 38.440000000000005\n",
      "\n",
      "Classifier: GaussianNB\n",
      "Train Accuracy: 38.07\n",
      "Test Accuracy: 38.59\n",
      "\n"
     ]
    }
   ],
   "source": [
    "# Split the data into training and testing sets\n",
    "X_train, X_test, y_train, y_test = train_test_split(X, y, test_size=0.2, random_state=100)\n",
    "\n",
    "# Perform grid search for each classifier\n",
    "best_models_main = perform_experiments(X_train, X_test, y_train, y_test)"
   ]
  },
  {
   "cell_type": "code",
   "execution_count": 71,
   "metadata": {},
   "outputs": [
    {
     "data": {
      "text/plain": [
       "array([[10,  8,  4,  4,  0,  0,  0,  0],\n",
       "       [ 7, 19, 12,  8,  3,  0,  0,  0],\n",
       "       [ 8, 21, 36, 33,  5,  1,  0,  0],\n",
       "       [ 7, 15, 49, 65, 49, 14,  0,  0],\n",
       "       [ 0,  3, 15, 54, 77, 40,  0,  0],\n",
       "       [ 0,  1,  0,  4, 22, 67,  6,  6],\n",
       "       [ 0,  0,  0,  0,  0,  0,  0,  0],\n",
       "       [ 0,  0,  0,  0,  0,  0,  0,  6]])"
      ]
     },
     "execution_count": 71,
     "metadata": {},
     "output_type": "execute_result"
    }
   ],
   "source": [
    "random_forest_mdl = best_models_main[1]\n",
    "confusion_matrix(random_forest_mdl.predict(X_test), y_test)"
   ]
  },
  {
   "attachments": {},
   "cell_type": "markdown",
   "metadata": {},
   "source": [
    "----\n",
    "\n",
    "## Top Rank Focused Models\n",
    "\n",
    "----\n",
    "\n",
    "Taking the lense of an Esports organization, I would adjust the model to focus on the higher tier players (League Index 6 to 8 or Master to Professional). Knowing how to differentiate between lower tier players doesn't seem to be helpful to a professional team, but knowing who could potentially be a professional player would be. This could be made into a tool to help with obtaining and training EG's next Starcraft II players.\n",
    "\n",
    "I chose various models and tuned them using Grid Search Cross Validation. The best model turned out to be a Random Forests Classifier.\n",
    "\n",
    "**Best Model**\n",
    "- **Random Forest**\n",
    "    - Train Accuracy: 100%\n",
    "    - Test Accuracy: ~41.53%\n",
    "\n",
    "**Other Models**\n",
    "- **Logistic Regression Classification**\n",
    "    - Train Accuracy: ~42.75%\n",
    "    - Test Accuracy: ~38.88%\n",
    "- **Gradient Boosted Regression**\n",
    "    - Train Accuracy: 100.0%\n",
    "    - Test Accuracy: ~39.47%\n",
    "- **K Nearest Neighbors Classifier**\n",
    "    - Train Accuracy: 100.0%\n",
    "    - Test Accuracy: ~30.49%\n",
    "- **Decisicon Tree Classifier**\n",
    "    - Train Accuracy: 100.0%\n",
    "    - Test Accuracy: ~30.49%\n",
    "- **Support Vector Classifier**\n",
    "    - Train Accuracy: 30.04\n",
    "    - Test Accuracy: 28.87"
   ]
  },
  {
   "attachments": {},
   "cell_type": "markdown",
   "metadata": {},
   "source": [
    "Below, we can see that there are two features with importances ~0.03. <br> Usually, I would remove them and rerun the models to see if our less complex model performs similarly to our first, but since our model is only 15 features it isn't that complex and I will leave them."
   ]
  },
  {
   "cell_type": "code",
   "execution_count": 72,
   "metadata": {},
   "outputs": [
    {
     "data": {
      "text/plain": [
       "<Axes: >"
      ]
     },
     "execution_count": 72,
     "metadata": {},
     "output_type": "execute_result"
    },
    {
     "data": {
      "image/png": "[encoded data removed]",
      "text/plain": [
       "<Figure size 640x480 with 1 Axes>"
      ]
     },
     "metadata": {},
     "output_type": "display_data"
    }
   ],
   "source": [
    "sns.barplot(x=random_forest_mdl.feature_importances_, y=random_forest_mdl.feature_names_in_)"
   ]
  },
  {
   "cell_type": "code",
   "execution_count": 73,
   "metadata": {},
   "outputs": [
    {
     "name": "stdout",
     "output_type": "stream",
     "text": [
      "- APM: 10.05\n",
      "- SelectByHotkeys: 8.51\n",
      "- AssignToHotkeys: 7.79\n",
      "- UniqueHotkeys: 4.3\n",
      "- MinimapAttacks: 6.44\n",
      "- MinimapRightClicks: 6.5\n",
      "- NumberOfPACs: 8.19\n",
      "- GapBetweenPACs: 8.16\n",
      "- ActionLatency: 10.3\n",
      "- ActionsInPAC: 6.51\n",
      "- TotalMapExplored: 5.49\n",
      "- WorkersMade: 7.1\n",
      "- UniqueUnitsMade: 3.81\n",
      "- ComplexUnitsMade: 2.65\n",
      "- ComplexAbilitiesUsed: 4.2\n"
     ]
    }
   ],
   "source": [
    "for x, y, in zip(random_forest_mdl.feature_importances_, random_forest_mdl.feature_names_in_):\n",
    "    print(f'- {y}: {np.round(np.round(x, 4) * 100, 2)}')"
   ]
  },
  {
   "attachments": {},
   "cell_type": "markdown",
   "metadata": {},
   "source": [
    "Let's get the high tier dataset and rerun the experiments on those."
   ]
  },
  {
   "cell_type": "code",
   "execution_count": 54,
   "metadata": {},
   "outputs": [
    {
     "data": {
      "text/plain": [
       "LeagueIndex\n",
       "6    621\n",
       "8     55\n",
       "7     35\n",
       "1      0\n",
       "2      0\n",
       "3      0\n",
       "4      0\n",
       "5      0\n",
       "Name: count, dtype: int64"
      ]
     },
     "execution_count": 54,
     "metadata": {},
     "output_type": "execute_result"
    }
   ],
   "source": [
    "high_tier_df = df[df['LeagueIndex'].isin([6, 7, 8])]\n",
    "high_tier_df['LeagueIndex'].value_counts()"
   ]
  },
  {
   "attachments": {},
   "cell_type": "markdown",
   "metadata": {},
   "source": [
    "Although our classes are imbalanced, let's run the models to see how they perform and then I'll decide whether I'll need to address class imbalances."
   ]
  },
  {
   "cell_type": "code",
   "execution_count": 55,
   "metadata": {},
   "outputs": [
    {
     "name": "stdout",
     "output_type": "stream",
     "text": [
      "Classifier: LogisticRegression\n",
      "Train Accuracy: 89.94\n",
      "Test Accuracy: 91.59\n",
      "\n",
      "Classifier: RandomForestClassifier\n",
      "Train Accuracy: 100.0\n",
      "Test Accuracy: 92.06\n",
      "\n",
      "Classifier: GradientBoostingClassifier\n",
      "Train Accuracy: 100.0\n",
      "Test Accuracy: 91.12\n",
      "\n",
      "Classifier: SVC\n",
      "Train Accuracy: 89.34\n",
      "Test Accuracy: 91.12\n",
      "\n",
      "Classifier: KNeighborsClassifier\n",
      "Train Accuracy: 88.73\n",
      "Test Accuracy: 91.59\n",
      "\n",
      "Classifier: DecisionTreeClassifier\n",
      "Train Accuracy: 95.17\n",
      "Test Accuracy: 85.98\n",
      "\n",
      "Classifier: GaussianNB\n",
      "Train Accuracy: 84.31\n",
      "Test Accuracy: 85.98\n",
      "\n"
     ]
    }
   ],
   "source": [
    "# Define our new X and y\n",
    "X_high = high_tier_df.drop(['LeagueIndex'], axis=1) \n",
    "y_high = high_tier_df['LeagueIndex']\n",
    "\n",
    "# Define our new train and test sets\n",
    "X_train, X_test, y_train, y_test = train_test_split(X_high, y_high, test_size=0.3, random_state=100)\n",
    "\n",
    "# Perform grid search for each classifier\n",
    "best_models = perform_experiments(X_train, X_test, y_train, y_test)"
   ]
  },
  {
   "attachments": {},
   "cell_type": "markdown",
   "metadata": {},
   "source": [
    "Below we can see the test precision for each class, which shows that the model wasn't able to classify any League 7 correctly and only half of the League 8 correctly. Although the model correctly classifies all League 6 correctly, it's expected since we have a lot more datapoints for League 6."
   ]
  },
  {
   "cell_type": "code",
   "execution_count": 370,
   "metadata": {},
   "outputs": [
    {
     "data": {
      "text/plain": [
       "array([1. , 0. , 0.5])"
      ]
     },
     "execution_count": 370,
     "metadata": {},
     "output_type": "execute_result"
    }
   ],
   "source": [
    "precision_score(best_models[1].predict(X_test), y_test, average=None)"
   ]
  },
  {
   "cell_type": "code",
   "execution_count": 65,
   "metadata": {},
   "outputs": [
    {
     "name": "stdout",
     "output_type": "stream",
     "text": [
      "- APM: 13.31\n",
      "- SelectByHotkeys: 7.63\n",
      "- AssignToHotkeys: 11.01\n",
      "- UniqueHotkeys: 2.62\n",
      "- MinimapAttacks: 10.02\n",
      "- MinimapRightClicks: 4.91\n",
      "- NumberOfPACs: 6.08\n",
      "- GapBetweenPACs: 13.37\n",
      "- ActionLatency: 9.83\n",
      "- ActionsInPAC: 4.42\n",
      "- TotalMapExplored: 3.84\n",
      "- WorkersMade: 4.74\n",
      "- UniqueUnitsMade: 2.64\n",
      "- ComplexUnitsMade: 2.33\n",
      "- ComplexAbilitiesUsed: 3.25\n"
     ]
    }
   ],
   "source": [
    "for x, y, in zip(best_models[1].feature_importances_, best_models[1].feature_names_in_):\n",
    "    print(f'- {y}: {np.round(np.round(x, 4) * 100, 2)}')"
   ]
  },
  {
   "cell_type": "code",
   "execution_count": 57,
   "metadata": {},
   "outputs": [
    {
     "data": {
      "text/plain": [
       "<Axes: >"
      ]
     },
     "execution_count": 57,
     "metadata": {},
     "output_type": "execute_result"
    },
    {
     "data": {
      "image/png": "[encoded data removed]",
      "text/plain": [
       "<Figure size 640x480 with 1 Axes>"
      ]
     },
     "metadata": {},
     "output_type": "display_data"
    }
   ],
   "source": [
    "sns.barplot(x=best_models[1].feature_importances_, y=best_models[1].feature_names_in_)"
   ]
  },
  {
   "attachments": {},
   "cell_type": "markdown",
   "metadata": {},
   "source": [
    "Our accuracies above were great, but we can see that the prediction accuracy within our smaller ranks (7 & 8) didn't have as great for classes 7 or 8.\n",
    "\n",
    "There are two ways I would address these class imbalances:\n",
    "1. Weighing the classes in the models higher than the majority class\n",
    "2. Oversampling or undersampling the majority class\n",
    "\n",
    "With more time I could try these methods, but tree algorithms (which are performing the best) are robust to class imbalances."
   ]
  },
  {
   "cell_type": "code",
   "execution_count": 373,
   "metadata": {},
   "outputs": [
    {
     "name": "stderr",
     "output_type": "stream",
     "text": [
      "/var/folders/xz/c6nwhmsx76x48gyt03kk4g1w0000gn/T/ipykernel_72336/860365660.py:32: UserWarning:\n",
      "\n",
      "Matplotlib is currently using module://matplotlib_inline.backend_inline, which is a non-GUI backend, so cannot show the figure.\n",
      "\n"
     ]
    },
    {
     "data": {
      "image/png": "[encoded data removed]",
      "text/plain": [
       "<Figure size 1400x600 with 4 Axes>"
      ]
     },
     "metadata": {},
     "output_type": "display_data"
    }
   ],
   "source": [
    "rf_conf_matrix = confusion_matrix(best_models[1].predict(X_test), y_test)\n",
    "\n",
    "fig, axes = plt.subplots(1, 2, figsize=(14, 6))\n",
    "\n",
    "# Create a heatmap for the confusion matrix\n",
    "sns.heatmap(rf_conf_matrix, ax=axes[0], annot=True, fmt=\"d\", cmap=\"Blues\")\n",
    "\n",
    "# Add labels, title, and axis ticks\n",
    "axes[0].set_xlabel(\"Predicted\")\n",
    "axes[0].set_ylabel(\"Actual\")\n",
    "axes[0].set_title(\"Confusion Matrix\")\n",
    "plt.xticks(np.arange(3) + 0.5, labels=np.unique(y_test))\n",
    "plt.yticks(np.arange(3) + 0.5, labels=np.unique(y_test), rotation=0)\n",
    "\n",
    "class_counts = y_test.value_counts()\n",
    "\n",
    "# Turns the counts into proportion of each class correctly classified\n",
    "prop_6 = rf_conf_matrix[:, 0] / class_counts[6]\n",
    "prop_7 = rf_conf_matrix[:, 1] / class_counts[7]\n",
    "prop_8 = rf_conf_matrix[:, 2] / class_counts[8]\n",
    "rf_conf_matrix = np.hstack([prop_6, prop_7, prop_8]).reshape((3, 3)).T\n",
    "rf_conf_matrix = np.round(rf_conf_matrix, 2)\n",
    "\n",
    "# Create a heatmap for the confusion matrix\n",
    "sns.heatmap(rf_conf_matrix, ax=axes[1], annot=True, cmap=\"Blues\")\n",
    "\n",
    "axes[1].set_xlabel(\"Predicted\")\n",
    "axes[1].set_ylabel(\"Actual\")\n",
    "axes[1].set_title(\"Confusion Matrix (Proportions)\")\n",
    "\n",
    "# show the figure\n",
    "fig.show()"
   ]
  },
  {
   "attachments": {},
   "cell_type": "markdown",
   "metadata": {},
   "source": [
    "----\n",
    "\n",
    "## Model Interpretations\n",
    "\n",
    "----\n",
    "\n",
    "Our main model which included all of the League Indicies 1-8 performed okay. It's likely due to the class imbalance that the model couldn't classify the undersampled leagues as well. From the trends within the data, that were observed earlier, I can imagine that with more data the models would be able to perform a lot better on the test sets.\n",
    "\n",
    "**Best Model**\n",
    "- **Random Forest**\n",
    "    - Train Accuracy: 100%\n",
    "    - Test Accuracy: ~41.53%\n",
    "\n",
    "The Random Forest found that the best features to differentiate between the Leagues was Action Latency followed closely by Actions Per Minute (APM). How quickly a player performs actions and how many actions they perform in a minute are tied together and are the most important to differentiate between lower and higher tier players.\n",
    "\n",
    "**5 Most Important Features**\n",
    "- ActionLatency: 10.3\n",
    "- APM: 10.05\n",
    "- SelectByHotkeys: 8.51\n",
    "- NumberOfPACs: 8.19\n",
    "- GapBetweenPACs: 8.16\n",
    "\n",
    "----\n",
    "\n",
    "For the model based on data from League Indicies 6-8 (High-Tier Models), the Random Forest Classifier Achieved 92.06% accuracy on the test sets. Knowing that the data is extremely imbalanced, around 80% of the data points from League 6 and 20% in League 7 and 8, I used precision to get a better idea of how many values we could have classified correctly within each class. Precision showed that although classifying all of League 6 correctly, the model didn't correctly classify any of League 7 correctly and only classified 50% of League 8 values correctly. It's most likely that this performance drop is due to the class imbalance; With more data the model would be able to perform better accross all classes.\n",
    "\n",
    "**Best High-Tier Model(s)**\n",
    "- **Random Forest**\n",
    "    - Train Accuracy: 100.0%\n",
    "    - Test Accuracy: 92.06%\n",
    "    - **Test Precision:** \n",
    "        - League 6: 100%\n",
    "        - League 7: 0%\n",
    "        - League 8: 50%\n",
    "\n",
    "Within the higher ranks, the most important feature changes to Gap Between Perception Action Cycles (PACs). A PAC is a shift of screen to a new location followed by at least one action. This shows that as you go up in ranks, the players action latency gets more similar, but being able to perform actions in multiple different areas of the game quickly is more important.\n",
    "\n",
    "**5 Most Important Features**\n",
    "- GapBetweenPACs: 13.37\n",
    "- APM: 13.31\n",
    "- AssignToHotkeys: 11.01\n",
    "- MinimapAttacks: 10.02\n",
    "- ActionLatency: 9.83"
   ]
  },
  {
   "attachments": {},
   "cell_type": "markdown",
   "metadata": {},
   "source": [
    "----\n",
    "\n",
    "## Advice to Stakeholders\n",
    "\n",
    "----\n",
    "\n",
    "With the following question in mind:\n",
    "\n",
    "> Hypothetical: after seeing your work, your stakeholders come to you and say that they <br> can collect more data, but want your guidance before starting. How would you advise <br> them based on your EDA and model results?\n",
    "\n",
    "I would first suggest we narrow our data collection to just high tier players in Leagues 6-8. As an Esports Organization, we don't care so much about what differentiates a low tier player from a higher tier, but what the difference between a top tier and a professional player. \n",
    "\n",
    "I would next offer three tools that could be made to help EG.\n",
    "1. Using our model, we can see which of our players classified lower than a professional and then see which features caused them to be incorrectly classified. We can then take this information to tell our player's what skills they need to improve to perform better.\n",
    "2. Since our model also gives us importance of different player statistics, I would advise a way to build a tool that can take in our player's statistics to see where our player's fall against other pros. If they are below average, we they can use that knowledge to know where they can improve. This tool is slightly different than the above tool because it analyzes just the statistics without regards for rank. The above tool would be useful if a player is performing significantly below average to understand the overall picture in regards to rank.\n",
    "3. For recruiting, we can use the model to intake high tier players or potential candidates. The goal would be to build a model with as close to 100% accuracy as possible. Then, if we encounter any players that are not already pros (anyone in League 6 or 7), that get classified as League 8, we might consider that they could be the next EG recruit."
   ]
  },
  {
   "cell_type": "markdown",
   "metadata": {},
   "source": []
  }
 ],
 "metadata": {
  "kernelspec": {
   "display_name": "env",
   "language": "python",
   "name": "python3"
  },
  "language_info": {
   "codemirror_mode": {
    "name": "ipython",
    "version": 3
   },
   "file_extension": ".py",
   "mimetype": "text/x-python",
   "name": "python",
   "nbconvert_exporter": "python",
   "pygments_lexer": "ipython3",
   "version": "3.11.1"
  },
  "orig_nbformat": 4
 },
 "nbformat": 4,
 "nbformat_minor": 2
}
